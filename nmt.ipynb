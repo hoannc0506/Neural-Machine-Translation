{
 "cells": [
  {
   "cell_type": "markdown",
   "id": "3a86053a-aeea-4474-8448-afad4b2521d4",
   "metadata": {},
   "source": [
    "# Machine translation (En2Vi) with mBART\n",
    "\n",
    "This notebook use for visualize data and training process "
   ]
  },
  {
   "cell_type": "code",
   "execution_count": 2,
   "id": "e45cb38f-42a3-4f51-a60c-14c56fca0091",
   "metadata": {},
   "outputs": [
    {
     "name": "stderr",
     "output_type": "stream",
     "text": [
      "\n",
      "KeyboardInterrupt\n",
      "\n"
     ]
    }
   ],
   "source": [
    "from train_nmt_mBART import "
   ]
  },
  {
   "cell_type": "code",
   "execution_count": null,
   "id": "af94609e-9ebf-476c-a153-7ad74f3a4563",
   "metadata": {},
   "outputs": [],
   "source": []
  },
  {
   "cell_type": "code",
   "execution_count": null,
   "id": "c270edb5-2735-4858-90fc-301c30eabdfa",
   "metadata": {},
   "outputs": [],
   "source": []
  },
  {
   "cell_type": "code",
   "execution_count": null,
   "id": "ba424162-2468-49da-ac59-96d146dcf3a6",
   "metadata": {},
   "outputs": [],
   "source": []
  },
  {
   "cell_type": "code",
   "execution_count": null,
   "id": "ba989b02-1a61-40a1-a936-6e207afb7076",
   "metadata": {},
   "outputs": [],
   "source": []
  }
 ],
 "metadata": {
  "kernelspec": {
   "display_name": "Python 3 (ipykernel)",
   "language": "python",
   "name": "python3"
  },
  "language_info": {
   "codemirror_mode": {
    "name": "ipython",
    "version": 3
   },
   "file_extension": ".py",
   "mimetype": "text/x-python",
   "name": "python",
   "nbconvert_exporter": "python",
   "pygments_lexer": "ipython3",
   "version": "3.10.13"
  }
 },
 "nbformat": 4,
 "nbformat_minor": 5
}
